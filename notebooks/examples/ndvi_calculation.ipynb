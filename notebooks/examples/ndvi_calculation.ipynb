{
 "cells": [
  {
   "cell_type": "markdown",
   "metadata": {},
   "source": [
    "# NDVI Calculation with GeoProcessor\n",
    "\n",
    "This notebook demonstrates how to calculate the Normalized Difference Vegetation Index (NDVI) using the GeoProcessor library. NDVI is a commonly used remote sensing index for assessing vegetation health and density."
   ]
  },
  {
   "cell_type": "markdown",
   "metadata": {},
   "source": [
    "## Setup\n",
    "\n",
    "First, let's import the necessary modules from GeoProcessor."
   ]
  },
  {
   "cell_type": "code",
   "execution_count": null,
   "metadata": {},
   "outputs": [],
   "source": [
    "import os\n",
    "import numpy as np\n",
    "import matplotlib.pyplot as plt\n",
    "\n",
    "# Import GeoProcessor modules\n",
    "import geoprocessor\n",
    "from geoprocessor.raster import io as raster_io\n",
    "from geoprocessor.raster import analysis\n",
    "from geoprocessor.visualization import maps, plots"
   ]
  },
  {
   "cell_type": "markdown",
   "metadata": {},
   "source": [
    "## Download Sample Landsat Data\n",
    "\n",
    "For this example, we'll use Landsat 8 data from the AWS Open Data Registry. We'll need the red (Band 4) and near-infrared (Band 5) bands to calculate NDVI."
   ]
  },
  {
   "cell_type": "code",
   "execution_count": null,
   "metadata": {},
   "outputs": [],
   "source": [
    "import shutil\n",
    "import requests\n",
    "\n",
    "# Create data directory if it doesn't exist\n",
    "data_dir = \"../../data/raster\"\n",
    "os.makedirs(data_dir, exist_ok=True)\n",
    "\n",
    "# Download red band (B4)\n",
    "red_url = \"https://landsat-pds.s3.amazonaws.com/c1/L8/153/075/LC08_L1TP_153075_20190515_20190515_01_RT/LC08_L1TP_153075_20190515_20190515_01_RT_B4.TIF\"\n",
    "red_path = os.path.join(data_dir, \"landsat8_red.tif\")\n",
    "\n",
    "# Download near-infrared band (B5)\n",
    "nir_url = \"https://landsat-pds.s3.amazonaws.com/c1/L8/153/075/LC08_L1TP_153075_20190515_20190515_01_RT/LC08_L1TP_153075_20190515_20190515_01_RT_B5.TIF\"\n",
    "nir_path = os.path.join(data_dir, \"landsat8_nir.tif\")\n",
    "\n",
    "# Download files if they don't exist\n",
    "for url, path, band_name in [(red_url, red_path, \"red\"), (nir_url, nir_path, \"NIR\")]:\n",
    "    if not os.path.exists(path):\n",
    "        print(f\"Downloading {band_name} band to {path}...\")\n",
    "        response = requests.get(url, stream=True)\n",
    "        with open(path, 'wb') as out_file:\n",
    "            shutil.copyfileobj(response.raw, out_file)\n",
    "        print(f\"{band_name} band download complete.\")\n",
    "    else:\n",
    "        print(f\"{band_name} band already exists at {path}\")"
   ]
  },
  {
   "cell_type": "markdown",
   "metadata": {},
   "source": [
    "## Load and Examine the Bands\n",
    "\n",
    "Let's load the red and NIR bands and examine their properties."
   ]
  },
  {
   "cell_type": "code",
   "execution_count": null,
   "metadata": {},
   "outputs": [],
   "source": [
    "# Load the red and NIR bands\n",
    "red_band = raster_io.read_raster(red_path)\n",
    "nir_band = raster_io.read_raster(nir_path)\n",
    "\n",
    "# Print basic information about the bands\n",
    "print(\"Red band shape:\", red_band.data.shape)\n",
    "print(\"NIR band shape:\", nir_band.data.shape)\n",
    "print(\"\\nRed band CRS:\", red_band.crs)\n",
    "print(\"NIR band CRS:\", nir_band.crs)\n",
    "print(\"\\nRed band NoData value:\", red_band.nodata)\n",
    "print(\"NIR band NoData value:\", nir_band.nodata)"
   ]
  },
  {
   "cell_type": "markdown",
   "metadata": {},
   "source": [
    "## Visualize the Bands\n",
    "\n",
    "Let's visualize the red and NIR bands to better understand the data."
   ]
  },
  {
   "cell_type": "code",
   "execution_count": null,
   "metadata": {},
   "outputs": [],
   "source": [
    "# Plot the bands side by side for comparison\n",
    "fig = plots.plot_band_comparison(\n",
    "    raster_list=[red_band, nir_band],\n",
    "    labels=[\"Red Band (B4)\", \"NIR Band (B5)\"],\n",
    "    title=\"Landsat 8 Red and NIR Bands\",\n",
    "    figsize=(15, 8)\n",
    ")"
   ]
  },
  {
   "cell_type": "markdown",
   "metadata": {},
   "source": [
    "## Calculate NDVI\n",
    "\n",
    "Now let's calculate NDVI using the formula:\n",
    "\n",
    "$$NDVI = \\frac{NIR - Red}{NIR + Red}$$\n",
    "\n",
    "The GeoProcessor library provides a built-in function to calculate NDVI:"
   ]
  },
  {
   "cell_type": "code",
   "execution_count": null,
   "metadata": {},
   "outputs": [],
   "source": [
    "# Set output path for NDVI result\n",
    "ndvi_path = os.path.join(data_dir, \"landsat8_ndvi.tif\")\n",
    "\n",
    "# Calculate NDVI\n",
    "ndvi = analysis.calculate_ndvi(red_band, nir_band, output_path=ndvi_path)\n",
    "\n",
    "print(f\"NDVI calculation complete. Result saved to {ndvi_path}\")\n",
    "\n",
    "# Alternatively, we can calculate NDVI without saving to a file\n",
    "ndvi = analysis.calculate_ndvi(red_band, nir_band)"
   ]
  },
  {
   "cell_type": "markdown",
   "metadata": {},
   "source": [
    "## Visualize NDVI Results\n",
    "\n",
    "Let's visualize the NDVI results using a colormap suitable for vegetation indices."
   ]
  },
  {
   "cell_type": "code",
   "execution_count": null,
   "metadata": {},
   "outputs": [],
   "source": [
    "# Create a static map of the NDVI result\n",
    "fig = maps.create_static_map(\n",
    "    raster=ndvi,\n",
    "    title=\"Landsat 8 NDVI\",\n",
    "    cmap=\"RdYlGn\",  # Red-Yellow-Green colormap (good for NDVI)\n",
    "    vmin=-1,\n",
    "    vmax=1\n",
    ")"
   ]
  },
  {
   "cell_type": "markdown",
   "metadata": {},
   "source": [
    "## Analyze NDVI Statistics\n",
    "\n",
    "Let's calculate and analyze the statistics of our NDVI result."
   ]
  },
  {
   "cell_type": "code",
   "execution_count": null,
   "metadata": {},
   "outputs": [],
   "source": [
    "# Calculate statistics for the NDVI raster\n",
    "ndvi_stats = analysis.calculate_statistics(ndvi)\n",
    "\n",
    "# Print the statistics\n",
    "print(\"NDVI Statistics:\")\n",
    "for key, value in ndvi_stats.items():\n",
    "    print(f\"  {key}: {value}\")"
   ]
  },
  {
   "cell_type": "markdown",
   "metadata": {},
   "source": [
    "## Create a Histogram of NDVI Values\n",
    "\n",
    "Let's create a histogram to visualize the distribution of NDVI values."
   ]
  },
  {
   "cell_type": "code",
   "execution_count": null,
   "metadata": {},
   "outputs": [],
   "source": [
    "# Plot a histogram of NDVI values\n",
    "fig = plots.plot_histogram(\n",
    "    raster=ndvi,\n",
    "    title=\"NDVI Distribution\",\n",
    "    xlabel=\"NDVI Value\",\n",
    "    bins=100,\n",
    "    show_stats=True,\n",
    "    color=\"green\"\n",
    ")"
   ]
  },
  {
   "cell_type": "markdown",
   "metadata": {},
   "source": [
    "## Classify NDVI Values\n",
    "\n",
    "Let's classify the NDVI values into different vegetation categories based on standard thresholds:\n",
    "\n",
    "- < 0: Water, built-up areas, bare soil\n",
    "- 0 - 0.2: Sparse vegetation\n",
    "- 0.2 - 0.4: Moderate vegetation\n",
    "- 0.4 - 0.6: Dense vegetation\n",
    "- > 0.6: Very dense vegetation"
   ]
  },
  {
   "cell_type": "code",
   "execution_count": null,
   "metadata": {},
   "outputs": [],
   "source": [
    "# Create a function to classify NDVI values\n",
    "def classify_ndvi(ndvi_data):\n",
    "    # Create a copy to avoid modifying the original data\n",
    "    classified = np.zeros_like(ndvi_data)\n",
    "    \n",
    "    # Define thresholds and classes\n",
    "    classified[ndvi_data < 0] = 1  # Water, built-up areas, bare soil\n",
    "    classified[(ndvi_data >= 0) & (ndvi_data < 0.2)] = 2  # Sparse vegetation\n",
    "    classified[(ndvi_data >= 0.2) & (ndvi_data < 0.4)] = 3  # Moderate vegetation\n",
    "    classified[(ndvi_data >= 0.4) & (ndvi_data < 0.6)] = 4  # Dense vegetation\n",
    "    classified[ndvi_data >= 0.6] = 5  # Very dense vegetation\n",
    "    \n",
    "    return classified\n",
    "\n",
    "# Create a classified NDVI image\n",
    "ndvi_classified = classify_ndvi(ndvi.data[0])\n",
    "\n",
    "# Define a custom colormap for the classes\n",
    "from matplotlib.colors import ListedColormap\n",
    "cmap = ListedColormap(['darkblue', 'brown', 'yellow', 'lightgreen', 'darkgreen'])\n",
    "\n",
    "# Plot the classified NDVI\n",
    "plt.figure(figsize=(12, 10))\n",
    "plt.imshow(ndvi_classified, cmap=cmap, vmin=1, vmax=5)\n",
    "\n",
    "# Add a colorbar with labels\n",
    "cbar = plt.colorbar(ticks=[1.4, 2.2, 3, 3.8, 4.6])\n",
    "cbar.set_ticklabels(['Water/Built-up/Bare', 'Sparse Vegetation', 'Moderate Vegetation', \n",
    "                     'Dense Vegetation', 'Very Dense Vegetation'])\n",
    "\n",
    "plt.title(\"Classified NDVI\")\n",
    "plt.axis('off')\n",
    "plt.tight_layout()\n",
    "plt.show()"
   ]
  },
  {
   "cell_type": "markdown",
   "metadata": {},
   "source": [
    "## Calculate Vegetation Area\n",
    "\n",
    "Let's calculate the area covered by different vegetation density classes. We'll need the pixel resolution to convert pixel counts to area."
   ]
  },
  {
   "cell_type": "code",
   "execution_count": null,
   "metadata": {},
   "outputs": [],
   "source": [
    "# Calculate pixel resolution in meters\n",
    "pixel_width = abs(ndvi.transform[0])  # Width of a pixel in CRS units\n",
    "pixel_height = abs(ndvi.transform[4])  # Height of a pixel in CRS units\n",
    "pixel_area = pixel_width * pixel_height  # Area of a pixel in square CRS units\n",
    "\n",
    "print(f\"Pixel resolution: {pixel_width} x {pixel_height} units\")\n",
    "print(f\"Pixel area: {pixel_area} square units\")\n",
    "\n",
    "# Calculate the area of each class in square kilometers\n",
    "class_names = [\n",
    "    \"Water/Built-up/Bare\",\n",
    "    \"Sparse Vegetation\",\n",
    "    \"Moderate Vegetation\",\n",
    "    \"Dense Vegetation\",\n",
    "    \"Very Dense Vegetation\"\n",
    "]\n",
    "\n",
    "class_areas = []\n",
    "for i in range(1, 6):  # Classes 1 to 5\n",
    "    class_pixel_count = np.sum(ndvi_classified == i)\n",
    "    class_area = class_pixel_count * pixel_area / 1_000_000  # Convert to square kilometers\n",
    "    class_areas.append(class_area)\n",
    "    print(f\"{class_names[i-1]}: {class_area:.2f} km�\")\n",
    "\n",
    "# Create a pie chart of vegetation class areas\n",
    "plt.figure(figsize=(10, 8))\n",
    "plt.pie(class_areas, labels=class_names, autopct='%1.1f%%', colors=['darkblue', 'brown', 'yellow', 'lightgreen', 'darkgreen'])\n",
    "plt.title(\"Area by Vegetation Class\")\n",
    "plt.axis('equal')  # Equal aspect ratio ensures that pie is drawn as a circle\n",
    "plt.tight_layout()\n",
    "plt.show()"
   ]
  },
  {
   "cell_type": "markdown",
   "metadata": {},
   "source": [
    "## Save the Processed Results\n",
    "\n",
    "Let's save the classified NDVI result as a GeoTIFF file."
   ]
  },
  {
   "cell_type": "code",
   "execution_count": null,
   "metadata": {},
   "outputs": [],
   "source": [
    "# Create a GeoRaster from the classified NDVI\n",
    "from geoprocessor.core.datamodel import GeoRaster\n",
    "\n",
    "# Expand dimensions to add the band dimension\n",
    "ndvi_classified_expanded = np.expand_dims(ndvi_classified, 0)\n",
    "\n",
    "# Create a GeoRaster object\n",
    "classified_raster = GeoRaster(\n",
    "    data=ndvi_classified_expanded,\n",
    "    transform=ndvi.transform,\n",
    "    crs=ndvi.crs,\n",
    "    nodata=0,  # 0 is not used in our classification\n",
    "    metadata={\"description\": \"Classified NDVI\"}\n",
    ")\n",
    "\n",
    "# Save to file\n",
    "classified_path = os.path.join(data_dir, \"landsat8_ndvi_classified.tif\")\n",
    "classified_raster.write(classified_path)\n",
    "\n",
    "print(f\"Classified NDVI saved to {classified_path}\")"
   ]
  },
  {
   "cell_type": "markdown",
   "metadata": {},
   "source": [
    "## Conclusion\n",
    "\n",
    "In this notebook, we've demonstrated how to use the GeoProcessor library to:\n",
    "\n",
    "1. Load and examine Landsat 8 red and NIR bands\n",
    "2. Calculate NDVI using the built-in function\n",
    "3. Visualize and analyze NDVI results\n",
    "4. Classify NDVI values into vegetation density categories\n",
    "5. Calculate and visualize the area covered by each vegetation class\n",
    "6. Save the processed results as GeoTIFF files\n",
    "\n",
    "NDVI is a powerful tool for vegetation analysis and environmental monitoring. The GeoProcessor library makes it easy to calculate, analyze, and visualize NDVI from multispectral satellite imagery."
   ]
  }
 ],
 "metadata": {
  "kernelspec": {
   "display_name": "Python 3",
   "language": "python",
   "name": "python3"
  },
  "language_info": {
   "codemirror_mode": {
    "name": "ipython",
    "version": 3
   },
   "file_extension": ".py",
   "mimetype": "text/x-python",
   "name": "python",
   "nbconvert_exporter": "python",
   "pygments_lexer": "ipython3",
   "version": "3.8.10"
  }
 },
 "nbformat": 4,
 "nbformat_minor": 4
}
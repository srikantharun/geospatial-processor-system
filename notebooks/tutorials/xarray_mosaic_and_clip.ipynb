{
  "cells": [
    {
      "cell_type": "markdown",
      "id": "364040d8-fefb-46a2-b134-a9f1f4d57603",
      "metadata": {
        "id": "364040d8-fefb-46a2-b134-a9f1f4d57603"
      },
      "source": [
        "# Raster Mosaicing and Clipping"
      ]
    },
    {
      "cell_type": "markdown",
      "id": "f6134d7a-b039-4960-ad9f-c9843c3cb79e",
      "metadata": {
        "id": "f6134d7a-b039-4960-ad9f-c9843c3cb79e"
      },
      "source": [
        "## Introduction\n",
        "\n",
        "The [`rioxarray`](https://corteva.github.io/rioxarray/stable/) extension adds support for working with raster data using XArray. In this tutorial, we explore basic raster processing of reading, mosaicing and clipping raster data using XArray.\n",
        "\n",
        "## Overview of the Task\n",
        "\n",
        "We will work with elevation data for Sri Lanka in the form of individual SRTM tiles, merge them and clip the resulting mosaic to the country boundary. We will also save the resulting raster as a Cloud-optimized GeoTIFF (COG).\n",
        "\n",
        "\n",
        "**Input Layers**:\n",
        "* `[NXXEYYY].SRTMGL1.hgt.zip`: Zipped raster tiles in SRTM HGT format\n",
        "* `ne_10m_admin_0_countries.zip`: A shapefile of country boundaries\n",
        "\n",
        "**Output**:\n",
        "* `clipped.tif`: A clipped and mosaiced GeoTiff file for Sri Lanka.\n",
        "\n",
        "**Data Credit**:\n",
        "- NASA Shuttle Radar Topography Mission Global 1 arc second provided by The Land Processes Distributed Active Archive Center (LP DAAC). Downloaded using the [30-Meter SRTM Tile Downloader](https://dwtkns.com/srtm30m/).\n",
        "- Made with Natural Earth. Free vector and raster map data @ naturalearthdata.com.\n",
        "\n",
        "\n",
        "**Watch Video Walkthrough** <a href='https://www.youtube.com/watch?v=Ff9ctKNlku0' target='_blank'><img src='https://github.com/spatialthoughts/geopython-tutorials/blob/main/images/yt_logo.png?raw=1'></a>"
      ]
    },
    {
      "cell_type": "markdown",
      "id": "85dbaeb4-655e-4743-809f-823bc75400c4",
      "metadata": {
        "id": "85dbaeb4-655e-4743-809f-823bc75400c4",
        "tags": []
      },
      "source": [
        "## Setup and Data Download\n",
        "\n",
        "The following blocks of code will install the required packages and download the datasets to your Colab environment."
      ]
    },
    {
      "cell_type": "code",
      "execution_count": null,
      "id": "27ab242e-e140-4afe-a6e8-c9f044bec425",
      "metadata": {
        "id": "27ab242e-e140-4afe-a6e8-c9f044bec425"
      },
      "outputs": [],
      "source": [
        "%%capture\n",
        "if 'google.colab' in str(get_ipython()):\n",
        "    !pip install rioxarray"
      ]
    },
    {
      "cell_type": "code",
      "execution_count": null,
      "id": "3decd0de-ae44-4d80-80b6-51223cc36ffe",
      "metadata": {
        "id": "3decd0de-ae44-4d80-80b6-51223cc36ffe"
      },
      "outputs": [],
      "source": [
        "import geopandas as gpd\n",
        "import matplotlib.pyplot as plt\n",
        "import os\n",
        "import rioxarray as rxr\n",
        "from rioxarray.merge import merge_arrays\n",
        "import shapely\n",
        "import xarray as xr"
      ]
    },
    {
      "cell_type": "code",
      "execution_count": null,
      "id": "e1c0ed63-39db-4689-9a65-f6eb7de98f19",
      "metadata": {
        "id": "e1c0ed63-39db-4689-9a65-f6eb7de98f19"
      },
      "outputs": [],
      "source": [
        "data_folder = 'data'\n",
        "output_folder = 'output'\n",
        "\n",
        "if not os.path.exists(data_folder):\n",
        "    os.mkdir(data_folder)\n",
        "if not os.path.exists(output_folder):\n",
        "    os.mkdir(output_folder)"
      ]
    },
    {
      "cell_type": "code",
      "execution_count": null,
      "id": "782466e6-1f57-437f-a564-dda8caeb87db",
      "metadata": {
        "id": "782466e6-1f57-437f-a564-dda8caeb87db"
      },
      "outputs": [],
      "source": [
        "def download(url):\n",
        "    filename = os.path.join(data_folder, os.path.basename(url))\n",
        "    if not os.path.exists(filename):\n",
        "        from urllib.request import urlretrieve\n",
        "        local, _ = urlretrieve(url, filename)\n",
        "        print('Downloaded ' + local)\n",
        "\n",
        "srtm_tiles = [\n",
        "  'N05E080.SRTMGL1.hgt.zip',\n",
        "  'N06E079.SRTMGL1.hgt.zip',\n",
        "  'N06E080.SRTMGL1.hgt.zip',\n",
        "  'N06E081.SRTMGL1.hgt.zip',\n",
        "  'N07E079.SRTMGL1.hgt.zip',\n",
        "  'N07E080.SRTMGL1.hgt.zip',\n",
        "  'N07E081.SRTMGL1.hgt.zip',\n",
        "  'N08E079.SRTMGL1.hgt.zip',\n",
        "  'N08E080.SRTMGL1.hgt.zip',\n",
        "  'N08E081.SRTMGL1.hgt.zip',\n",
        "  'N09E080.SRTMGL1.hgt.zip',\n",
        "  'N09E079.SRTMGL1.hgt.zip'\n",
        "]\n",
        "\n",
        "shapefile = 'ne_10m_admin_0_countries_ind.zip'\n",
        "\n",
        "data_url = 'https://github.com/spatialthoughts/geopython-tutorials/releases/download/data/'\n",
        "\n",
        "for tile in srtm_tiles:\n",
        "  url = '{}/{}'.format(data_url, tile)\n",
        "  download(url)\n",
        "\n",
        "download('{}/{}'.format(data_url,shapefile))"
      ]
    },
    {
      "cell_type": "markdown",
      "id": "31760f89-975f-42df-9599-13466772da61",
      "metadata": {
        "id": "31760f89-975f-42df-9599-13466772da61"
      },
      "source": [
        "## Procedure"
      ]
    },
    {
      "cell_type": "markdown",
      "id": "WaBA4q4FFupB",
      "metadata": {
        "id": "WaBA4q4FFupB"
      },
      "source": [
        "For this tutorial, we want to mosaic the source tiles and clip them to the boundary of Sri Lanka. We read the Natural Earth administrative regions shapefile."
      ]
    },
    {
      "cell_type": "code",
      "execution_count": null,
      "id": "HbDnBfLpGH4Q",
      "metadata": {
        "id": "HbDnBfLpGH4Q"
      },
      "outputs": [],
      "source": [
        "shapefile_path = os.path.join(data_folder, shapefile)\n",
        "boundaries_gdf = gpd.read_file(shapefile_path)"
      ]
    },
    {
      "cell_type": "markdown",
      "id": "CV7AAgNuGR4R",
      "metadata": {
        "id": "CV7AAgNuGR4R"
      },
      "source": [
        "We filter the dataframe using the ADM0_A3 column and extract the geometry."
      ]
    },
    {
      "cell_type": "code",
      "execution_count": null,
      "id": "81gdSJcYGQ7i",
      "metadata": {
        "id": "81gdSJcYGQ7i"
      },
      "outputs": [],
      "source": [
        "filtered_gdf = boundaries_gdf[boundaries_gdf['ADM0_A3'] == 'LKA']\n",
        "geometry = filtered_gdf.geometry\n",
        "geometry"
      ]
    },
    {
      "cell_type": "markdown",
      "id": "36a7fe8d-e3a9-4137-a3f1-87898c4b6301",
      "metadata": {
        "id": "36a7fe8d-e3a9-4137-a3f1-87898c4b6301"
      },
      "source": [
        "Next, we read the zipped SRTM tiles using rioxarray. rioxarray uses GDAL to read raster datasets, and can read zipped SRTM files directly. We also specify `mask_and_scale=False` so the nodata values from the input rasters is preserved and not set to NaN."
      ]
    },
    {
      "cell_type": "code",
      "execution_count": null,
      "id": "e6428cb4-0d19-4ffd-bea4-e3109dae33d3",
      "metadata": {
        "id": "e6428cb4-0d19-4ffd-bea4-e3109dae33d3"
      },
      "outputs": [],
      "source": [
        "datasets = []\n",
        "for tile in srtm_tiles:\n",
        "  zipfile = os.path.join(data_folder, tile)\n",
        "  ds = rxr.open_rasterio(zipfile, mask_and_scale=False)\n",
        "  datasets.append(ds)"
      ]
    },
    {
      "cell_type": "markdown",
      "source": [
        "We can get the bounding box of each image and create a GeoDataFrame to visualize the extent of the coverage along with the chosen region."
      ],
      "metadata": {
        "id": "5gRXiB8s8XpP"
      },
      "id": "5gRXiB8s8XpP"
    },
    {
      "cell_type": "code",
      "source": [
        "bboxes = []\n",
        "for ds in datasets:\n",
        "    bounds = ds.rio.bounds()\n",
        "    bbox = shapely.box(*bounds)  # Create a shapely box object\n",
        "    bboxes.append(bbox)\n",
        "\n",
        "gdf = gpd.GeoDataFrame(geometry=bboxes, crs=datasets[0].rio.crs)"
      ],
      "metadata": {
        "id": "kXbQ-J5o7PmN"
      },
      "id": "kXbQ-J5o7PmN",
      "execution_count": null,
      "outputs": []
    },
    {
      "cell_type": "markdown",
      "source": [
        "Plot the bounding boxes and the chosen admin boundary."
      ],
      "metadata": {
        "id": "z0AQ-fkI9MWg"
      },
      "id": "z0AQ-fkI9MWg"
    },
    {
      "cell_type": "code",
      "source": [
        "fig, ax = plt.subplots(1, 1)\n",
        "fig.set_size_inches(5,5)\n",
        "gdf.plot(\n",
        "    ax=ax,\n",
        "    facecolor='none',\n",
        "    edgecolor='black',\n",
        "    alpha=0.5)\n",
        "\n",
        "filtered_gdf.plot(\n",
        "    ax=ax,\n",
        "    facecolor='blue',\n",
        "    alpha=0.5\n",
        ")\n",
        "ax.set_axis_off()\n",
        "plt.show()\n"
      ],
      "metadata": {
        "colab": {
          "base_uri": "https://localhost:8080/",
          "height": 422
        },
        "id": "3EfywFl39UFt",
        "outputId": "dbf93e5a-ae27-4e40-a5d9-a2e050da1ff9"
      },
      "id": "3EfywFl39UFt",
      "execution_count": null,
      "outputs": [
        {
          "output_type": "display_data",
          "data": {
            "text/plain": [
              "<Figure size 500x500 with 1 Axes>"
            ],
            "image/png": "[encoded data removed]"
          },
          "metadata": {}
        }
      ]
    },
    {
      "cell_type": "markdown",
      "id": "9FcN19D1F7H1",
      "metadata": {
        "id": "9FcN19D1F7H1"
      },
      "source": [
        "Now that we have a list of XArray datasets, we can use the `merge_arrays` function from `rioxarray` to merge them into a mosaic."
      ]
    },
    {
      "cell_type": "code",
      "execution_count": null,
      "id": "9a963d20-5b86-4410-84c7-a11414ff1d8f",
      "metadata": {
        "id": "9a963d20-5b86-4410-84c7-a11414ff1d8f"
      },
      "outputs": [],
      "source": [
        "merged = merge_arrays(datasets)\n",
        "merged"
      ]
    },
    {
      "cell_type": "markdown",
      "id": "sXDViQXSHdnH",
      "metadata": {
        "id": "sXDViQXSHdnH"
      },
      "source": [
        "Now we clip the merged raster using the `clip` function from `rioxarray`. For XArray datasets, we can use the `rio` accessor to run the `rioxarray` functions."
      ]
    },
    {
      "cell_type": "code",
      "execution_count": null,
      "id": "ioN2PJdyG4ow",
      "metadata": {
        "id": "ioN2PJdyG4ow"
      },
      "outputs": [],
      "source": [
        "clipped = merged.rio.clip(filtered_gdf.geometry)"
      ]
    },
    {
      "cell_type": "markdown",
      "id": "8maPy7tYNtZ6",
      "metadata": {
        "id": "8maPy7tYNtZ6"
      },
      "source": [
        "Last step is to save the results to disk as GeoTiff files. We use [Cloud-Optimized GeoTIFF (COG)](https://gdal.org/drivers/raster/cog.html) driver and specify additional GDAL [compression options](https://rasterio.readthedocs.io/en/stable/topics/image_options.html#creation-options)."
      ]
    },
    {
      "cell_type": "code",
      "execution_count": null,
      "id": "UQk5MB6JMsuH",
      "metadata": {
        "id": "UQk5MB6JMsuH"
      },
      "outputs": [],
      "source": [
        "output_dem = 'clipped.tif'\n",
        "output_dem_path = os.path.join(output_folder, output_dem)\n",
        "clipped.rio.to_raster(\n",
        "    output_dem_path, driver='COG', dtype='int16',\n",
        "    compress='DEFLATE', predictor='YES')"
      ]
    },
    {
      "cell_type": "markdown",
      "id": "3e1aaf19-e90b-4113-97a2-fc40a329654a",
      "metadata": {
        "id": "3e1aaf19-e90b-4113-97a2-fc40a329654a"
      },
      "source": [
        "----\n",
        "\n",
        "If you want to give feedback or share your experience with this tutorial, please comment below. (requires GitHub account)\n",
        "\n",
        "\n",
        "<script src='https://utteranc.es/client.js'\n",
        "    repo='spatialthoughts/geopython-tutorials'\n",
        "    issue-term='pathname'\n",
        "    theme='github-light'\n",
        "    crossorigin='anonymous'\n",
        "    async>\n",
        "</script>"
      ]
    }
  ],
  "metadata": {
    "colab": {
      "name": "raster_mosaicing_and_clipping.ipynb",
      "provenance": []
    },
    "kernelspec": {
      "display_name": "Python 3 (ipykernel)",
      "language": "python",
      "name": "python3"
    },
    "language_info": {
      "codemirror_mode": {
        "name": "ipython",
        "version": 3
      },
      "file_extension": ".py",
      "mimetype": "text/x-python",
      "name": "python",
      "nbconvert_exporter": "python",
      "pygments_lexer": "ipython3",
      "version": "3.13.1"
    }
  },
  "nbformat": 4,
  "nbformat_minor": 5
}
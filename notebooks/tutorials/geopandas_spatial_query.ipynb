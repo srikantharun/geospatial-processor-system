{
 "cells": [
  {
   "cell_type": "markdown",
   "metadata": {
    "id": "Nenn5vEr1_NJ"
   },
   "source": [
    "# Performing Spatial Queries"
   ]
  },
  {
   "cell_type": "markdown",
   "metadata": {
    "id": "wIFWAO9r1_NM"
   },
   "source": [
    "## Introduction\n",
    "\n",
    "Spatial queries allows you to select features in a layer by their spatial relationships with features from another layer. GeoPandas provides `sjoin()` and `sjoin_nearest()` functions that can be used to perform a spatial query.\n",
    "\n",
    "## Overview of the Task\n",
    "\n",
    "We will be working with 2 data layers for the city of Melbourne, Australia. Given the data layers for the pubs and bars in the city and the locations of all metro stations, we want to find out which bars and pubs are within 500 meters of a metro station.\n",
    "\n",
    "**Input Layers**:\n",
    "* `metro_stations_accessbility.zip`: A shapefile of metro stations in Melbourne\n",
    "* `Bars_and_pubs__with_patron_capacity.csv`: CSV file with location of bars and pubs in Melbournse\n",
    "\n",
    "**Output**:\n",
    "* `spatial_query.gpkg`: A GeoPackage containing all bars and pubs within 500 meters of a metro station\n",
    "\n",
    "**Data Credit**\n",
    "\n",
    "* 2019 The City of Melbourne Open Data Portal. Data provided by Metro Trains Melbourne and Census of Land Use and Employment (CLUE)\n",
    "\n",
    "\n",
    "**Watch Video Walkthrough** <a href='https://www.youtube.com/watch?v=V-gyuP7vMSg' target='_blank'><img src='https://github.com/spatialthoughts/geopython-tutorials/blob/main/images/yt_logo.png?raw=1'></a>\n"
   ]
  },
  {
   "cell_type": "markdown",
   "metadata": {
    "id": "5F4UU8ky1_NM"
   },
   "source": [
    "## Setup and Data Download\n",
    "\n",
    "The following blocks of code will install the required packages and download the datasets to your Colab environment."
   ]
  },
  {
   "cell_type": "code",
   "execution_count": 4,
   "metadata": {
    "id": "LZY3cd9K1_NO"
   },
   "outputs": [],
   "source": [
    "import os\n",
    "import pandas as pd\n",
    "import geopandas as gpd\n",
    "import matplotlib.pyplot as plt"
   ]
  },
  {
   "cell_type": "code",
   "execution_count": 5,
   "metadata": {
    "id": "4SqUL0h81_NO"
   },
   "outputs": [],
   "source": [
    "data_folder = 'data'\n",
    "output_folder = 'output'\n",
    "\n",
    "if not os.path.exists(data_folder):\n",
    "    os.mkdir(data_folder)\n",
    "if not os.path.exists(output_folder):\n",
    "    os.mkdir(output_folder)"
   ]
  },
  {
   "cell_type": "code",
   "execution_count": 9,
   "metadata": {
    "id": "BilOp9-B1_NO"
   },
   "outputs": [
    {
     "name": "stdout",
     "output_type": "stream",
     "text": [
      "Downloaded data/Bars_and_pubs__with_patron_capacity.csv\n",
      "Downloaded data/metro_stations_accessbility.zip\n"
     ]
    }
   ],
   "source": [
    "def download(url):\n",
    "    filename = os.path.join(data_folder, os.path.basename(url))\n",
    "    if not os.path.exists(filename):\n",
    "        from urllib.request import urlretrieve\n",
    "        local, _ = urlretrieve(url, filename)\n",
    "        print('Downloaded ' + local)\n",
    "\n",
    "data_url = 'https://github.com/spatialthoughts/geopython-tutorials/releases/download/data/'\n",
    "\n",
    "download(data_url + 'Bars_and_pubs__with_patron_capacity.csv')\n",
    "download(data_url + 'metro_stations_accessbility.zip')"
   ]
  },
  {
   "cell_type": "markdown",
   "metadata": {
    "id": "GNO6nOET1_NO"
   },
   "source": [
    "## Procedure"
   ]
  },
  {
   "cell_type": "markdown",
   "metadata": {
    "id": "GCC7mjMJ1_NP"
   },
   "source": [
    "Read the `Bars_and_pubs__with_patron_capacity.csv` file and convert it to a GeoDataFrame."
   ]
  },
  {
   "cell_type": "code",
   "execution_count": 43,
   "metadata": {
    "id": "mjhj_ZJO1_NP",
    "outputId": "25f2f804-63c8-4ea2-a91a-5869d777955b"
   },
   "outputs": [
    {
     "data": {
      "text/html": [
       "<div>\n",
       "<style scoped>\n",
       "    .dataframe tbody tr th:only-of-type {\n",
       "        vertical-align: middle;\n",
       "    }\n",
       "\n",
       "    .dataframe tbody tr th {\n",
       "        vertical-align: top;\n",
       "    }\n",
       "\n",
       "    .dataframe thead th {\n",
       "        text-align: right;\n",
       "    }\n",
       "</style>\n",
       "<table border=\"1\" class=\"dataframe\">\n",
       "  <thead>\n",
       "    <tr style=\"text-align: right;\">\n",
       "      <th></th>\n",
       "      <th>Census year</th>\n",
       "      <th>Block ID</th>\n",
       "      <th>Property ID</th>\n",
       "      <th>Base property ID</th>\n",
       "      <th>Street address</th>\n",
       "    </tr>\n",
       "  </thead>\n",
       "  <tbody>\n",
       "    <tr>\n",
       "      <th>0</th>\n",
       "      <td>2002</td>\n",
       "      <td>247</td>\n",
       "      <td>106238</td>\n",
       "      <td>106238</td>\n",
       "      <td>192-202 Lygon Street</td>\n",
       "    </tr>\n",
       "    <tr>\n",
       "      <th>1</th>\n",
       "      <td>2002</td>\n",
       "      <td>252</td>\n",
       "      <td>106244</td>\n",
       "      <td>106244</td>\n",
       "      <td>160-162 Lygon Street</td>\n",
       "    </tr>\n",
       "    <tr>\n",
       "      <th>2</th>\n",
       "      <td>2006</td>\n",
       "      <td>16</td>\n",
       "      <td>104018</td>\n",
       "      <td>104018</td>\n",
       "      <td>172-192 Flinders Street</td>\n",
       "    </tr>\n",
       "    <tr>\n",
       "      <th>3</th>\n",
       "      <td>2002</td>\n",
       "      <td>214</td>\n",
       "      <td>106186</td>\n",
       "      <td>106186</td>\n",
       "      <td>414-422 Lygon Street</td>\n",
       "    </tr>\n",
       "    <tr>\n",
       "      <th>4</th>\n",
       "      <td>2008</td>\n",
       "      <td>76</td>\n",
       "      <td>589841</td>\n",
       "      <td>105749</td>\n",
       "      <td>221 Little Lonsdale Street</td>\n",
       "    </tr>\n",
       "    <tr>\n",
       "      <th>...</th>\n",
       "      <td>...</td>\n",
       "      <td>...</td>\n",
       "      <td>...</td>\n",
       "      <td>...</td>\n",
       "      <td>...</td>\n",
       "    </tr>\n",
       "    <tr>\n",
       "      <th>3333</th>\n",
       "      <td>2017</td>\n",
       "      <td>85</td>\n",
       "      <td>105746</td>\n",
       "      <td>105746</td>\n",
       "      <td>183-265 La Trobe Street</td>\n",
       "    </tr>\n",
       "    <tr>\n",
       "      <th>3334</th>\n",
       "      <td>2017</td>\n",
       "      <td>74</td>\n",
       "      <td>104662</td>\n",
       "      <td>104662</td>\n",
       "      <td>106-112 Hardware Street</td>\n",
       "    </tr>\n",
       "    <tr>\n",
       "      <th>3335</th>\n",
       "      <td>2017</td>\n",
       "      <td>268</td>\n",
       "      <td>108154</td>\n",
       "      <td>108153</td>\n",
       "      <td>49 Rathdowne Street</td>\n",
       "    </tr>\n",
       "    <tr>\n",
       "      <th>3336</th>\n",
       "      <td>2017</td>\n",
       "      <td>104</td>\n",
       "      <td>104085</td>\n",
       "      <td>104085</td>\n",
       "      <td>167-175 Franklin Street</td>\n",
       "    </tr>\n",
       "    <tr>\n",
       "      <th>3337</th>\n",
       "      <td>2017</td>\n",
       "      <td>33</td>\n",
       "      <td>100730</td>\n",
       "      <td>100730</td>\n",
       "      <td>12-16 Bank Place</td>\n",
       "    </tr>\n",
       "  </tbody>\n",
       "</table>\n",
       "<p>3338 rows × 5 columns</p>\n",
       "</div>"
      ],
      "text/plain": [
       "      Census year  Block ID  Property ID  Base property ID  \\\n",
       "0            2002       247       106238            106238   \n",
       "1            2002       252       106244            106244   \n",
       "2            2006        16       104018            104018   \n",
       "3            2002       214       106186            106186   \n",
       "4            2008        76       589841            105749   \n",
       "...           ...       ...          ...               ...   \n",
       "3333         2017        85       105746            105746   \n",
       "3334         2017        74       104662            104662   \n",
       "3335         2017       268       108154            108153   \n",
       "3336         2017       104       104085            104085   \n",
       "3337         2017        33       100730            100730   \n",
       "\n",
       "                  Street address  \n",
       "0           192-202 Lygon Street  \n",
       "1           160-162 Lygon Street  \n",
       "2        172-192 Flinders Street  \n",
       "3           414-422 Lygon Street  \n",
       "4     221 Little Lonsdale Street  \n",
       "...                          ...  \n",
       "3333     183-265 La Trobe Street  \n",
       "3334     106-112 Hardware Street  \n",
       "3335         49 Rathdowne Street  \n",
       "3336     167-175 Franklin Street  \n",
       "3337            12-16 Bank Place  \n",
       "\n",
       "[3338 rows x 5 columns]"
      ]
     },
     "execution_count": 43,
     "metadata": {},
     "output_type": "execute_result"
    }
   ],
   "source": [
    "csv_file = 'Bars_and_pubs__with_patron_capacity.csv'\n",
    "csv_path = os.path.join(data_folder, csv_file)\n",
    "barspubs_df = pd.read_csv(csv_path) \n",
    "barspubs_df.iloc[:, :5]"
   ]
  },
  {
   "cell_type": "markdown",
   "metadata": {
    "id": "V8j2wbI-1_NP"
   },
   "source": [
    "You will note that the data contains multiple features for each establishment from different years. Let's sort by *Property ID* and check."
   ]
  },
  {
   "cell_type": "code",
   "execution_count": 44,
   "metadata": {
    "id": "pvn-wF5U1_NP",
    "outputId": "21e5655e-ef01-42e3-8919-7f4394928c0c"
   },
   "outputs": [
    {
     "data": {
      "text/html": [
       "<div>\n",
       "<style scoped>\n",
       "    .dataframe tbody tr th:only-of-type {\n",
       "        vertical-align: middle;\n",
       "    }\n",
       "\n",
       "    .dataframe tbody tr th {\n",
       "        vertical-align: top;\n",
       "    }\n",
       "\n",
       "    .dataframe thead th {\n",
       "        text-align: right;\n",
       "    }\n",
       "</style>\n",
       "<table border=\"1\" class=\"dataframe\">\n",
       "  <thead>\n",
       "    <tr style=\"text-align: right;\">\n",
       "      <th></th>\n",
       "      <th>Census year</th>\n",
       "      <th>Block ID</th>\n",
       "      <th>Property ID</th>\n",
       "      <th>Base property ID</th>\n",
       "      <th>Street address</th>\n",
       "    </tr>\n",
       "  </thead>\n",
       "  <tbody>\n",
       "    <tr>\n",
       "      <th>3129</th>\n",
       "      <td>2017</td>\n",
       "      <td>103</td>\n",
       "      <td>100160</td>\n",
       "      <td>100160</td>\n",
       "      <td>196-200 A'Beckett Street</td>\n",
       "    </tr>\n",
       "    <tr>\n",
       "      <th>709</th>\n",
       "      <td>2011</td>\n",
       "      <td>103</td>\n",
       "      <td>100160</td>\n",
       "      <td>100160</td>\n",
       "      <td>196-200 A'Beckett Street</td>\n",
       "    </tr>\n",
       "    <tr>\n",
       "      <th>2553</th>\n",
       "      <td>2015</td>\n",
       "      <td>103</td>\n",
       "      <td>100160</td>\n",
       "      <td>100160</td>\n",
       "      <td>196-200 A'Beckett Street</td>\n",
       "    </tr>\n",
       "    <tr>\n",
       "      <th>247</th>\n",
       "      <td>2008</td>\n",
       "      <td>103</td>\n",
       "      <td>100160</td>\n",
       "      <td>100160</td>\n",
       "      <td>196-200 A'Beckett Street</td>\n",
       "    </tr>\n",
       "    <tr>\n",
       "      <th>2201</th>\n",
       "      <td>2010</td>\n",
       "      <td>103</td>\n",
       "      <td>100160</td>\n",
       "      <td>100160</td>\n",
       "      <td>196-200 A'Beckett Street</td>\n",
       "    </tr>\n",
       "    <tr>\n",
       "      <th>...</th>\n",
       "      <td>...</td>\n",
       "      <td>...</td>\n",
       "      <td>...</td>\n",
       "      <td>...</td>\n",
       "      <td>...</td>\n",
       "    </tr>\n",
       "    <tr>\n",
       "      <th>2579</th>\n",
       "      <td>2015</td>\n",
       "      <td>1105</td>\n",
       "      <td>628712</td>\n",
       "      <td>628712</td>\n",
       "      <td>717-731 Collins Street</td>\n",
       "    </tr>\n",
       "    <tr>\n",
       "      <th>2832</th>\n",
       "      <td>2016</td>\n",
       "      <td>66</td>\n",
       "      <td>635138</td>\n",
       "      <td>635138</td>\n",
       "      <td>13 Heffernan Lane</td>\n",
       "    </tr>\n",
       "    <tr>\n",
       "      <th>3069</th>\n",
       "      <td>2017</td>\n",
       "      <td>66</td>\n",
       "      <td>635138</td>\n",
       "      <td>635138</td>\n",
       "      <td>13 Heffernan Lane</td>\n",
       "    </tr>\n",
       "    <tr>\n",
       "      <th>3058</th>\n",
       "      <td>2016</td>\n",
       "      <td>270</td>\n",
       "      <td>664626</td>\n",
       "      <td>104468</td>\n",
       "      <td>230 Grattan Street</td>\n",
       "    </tr>\n",
       "    <tr>\n",
       "      <th>3228</th>\n",
       "      <td>2017</td>\n",
       "      <td>270</td>\n",
       "      <td>664626</td>\n",
       "      <td>104468</td>\n",
       "      <td>230 Grattan Street</td>\n",
       "    </tr>\n",
       "  </tbody>\n",
       "</table>\n",
       "<p>3338 rows × 5 columns</p>\n",
       "</div>"
      ],
      "text/plain": [
       "      Census year  Block ID  Property ID  Base property ID  \\\n",
       "3129         2017       103       100160            100160   \n",
       "709          2011       103       100160            100160   \n",
       "2553         2015       103       100160            100160   \n",
       "247          2008       103       100160            100160   \n",
       "2201         2010       103       100160            100160   \n",
       "...           ...       ...          ...               ...   \n",
       "2579         2015      1105       628712            628712   \n",
       "2832         2016        66       635138            635138   \n",
       "3069         2017        66       635138            635138   \n",
       "3058         2016       270       664626            104468   \n",
       "3228         2017       270       664626            104468   \n",
       "\n",
       "                Street address  \n",
       "3129  196-200 A'Beckett Street  \n",
       "709   196-200 A'Beckett Street  \n",
       "2553  196-200 A'Beckett Street  \n",
       "247   196-200 A'Beckett Street  \n",
       "2201  196-200 A'Beckett Street  \n",
       "...                        ...  \n",
       "2579    717-731 Collins Street  \n",
       "2832         13 Heffernan Lane  \n",
       "3069         13 Heffernan Lane  \n",
       "3058        230 Grattan Street  \n",
       "3228        230 Grattan Street  \n",
       "\n",
       "[3338 rows x 5 columns]"
      ]
     },
     "execution_count": 44,
     "metadata": {},
     "output_type": "execute_result"
    }
   ],
   "source": [
    "barspubs_df = barspubs_df.sort_values('Property ID')\n",
    "barspubs_df.iloc[:, :5]"
   ]
  },
  {
   "cell_type": "markdown",
   "metadata": {
    "id": "1jXJ9cnk1_NQ"
   },
   "source": [
    "We are interested only in the location of the establishment. So we can de-duplicate the dataframe and keep only 1 record per unique *Property ID*."
   ]
  },
  {
   "cell_type": "code",
   "execution_count": 45,
   "metadata": {
    "id": "pBvpXcCP1_NR",
    "outputId": "5d231198-aec9-4d15-f114-c3308ac57acd"
   },
   "outputs": [
    {
     "data": {
      "text/html": [
       "<div>\n",
       "<style scoped>\n",
       "    .dataframe tbody tr th:only-of-type {\n",
       "        vertical-align: middle;\n",
       "    }\n",
       "\n",
       "    .dataframe tbody tr th {\n",
       "        vertical-align: top;\n",
       "    }\n",
       "\n",
       "    .dataframe thead th {\n",
       "        text-align: right;\n",
       "    }\n",
       "</style>\n",
       "<table border=\"1\" class=\"dataframe\">\n",
       "  <thead>\n",
       "    <tr style=\"text-align: right;\">\n",
       "      <th></th>\n",
       "      <th>Census year</th>\n",
       "      <th>Block ID</th>\n",
       "      <th>Property ID</th>\n",
       "      <th>Base property ID</th>\n",
       "      <th>Street address</th>\n",
       "    </tr>\n",
       "  </thead>\n",
       "  <tbody>\n",
       "    <tr>\n",
       "      <th>3129</th>\n",
       "      <td>2017</td>\n",
       "      <td>103</td>\n",
       "      <td>100160</td>\n",
       "      <td>100160</td>\n",
       "      <td>196-200 A'Beckett Street</td>\n",
       "    </tr>\n",
       "    <tr>\n",
       "      <th>1087</th>\n",
       "      <td>2011</td>\n",
       "      <td>409</td>\n",
       "      <td>100441</td>\n",
       "      <td>100441</td>\n",
       "      <td>118-126 Ireland Street</td>\n",
       "    </tr>\n",
       "    <tr>\n",
       "      <th>410</th>\n",
       "      <td>2004</td>\n",
       "      <td>315</td>\n",
       "      <td>100514</td>\n",
       "      <td>100514</td>\n",
       "      <td>204-206 Arden Street</td>\n",
       "    </tr>\n",
       "    <tr>\n",
       "      <th>1501</th>\n",
       "      <td>2009</td>\n",
       "      <td>33</td>\n",
       "      <td>100727</td>\n",
       "      <td>100727</td>\n",
       "      <td>5-9 Bank Place</td>\n",
       "    </tr>\n",
       "    <tr>\n",
       "      <th>1159</th>\n",
       "      <td>2013</td>\n",
       "      <td>33</td>\n",
       "      <td>100730</td>\n",
       "      <td>100730</td>\n",
       "      <td>12-16 Bank Place</td>\n",
       "    </tr>\n",
       "    <tr>\n",
       "      <th>...</th>\n",
       "      <td>...</td>\n",
       "      <td>...</td>\n",
       "      <td>...</td>\n",
       "      <td>...</td>\n",
       "      <td>...</td>\n",
       "    </tr>\n",
       "    <tr>\n",
       "      <th>1601</th>\n",
       "      <td>2009</td>\n",
       "      <td>2391</td>\n",
       "      <td>616966</td>\n",
       "      <td>616966</td>\n",
       "      <td>2 Boundary Road</td>\n",
       "    </tr>\n",
       "    <tr>\n",
       "      <th>1182</th>\n",
       "      <td>2013</td>\n",
       "      <td>1110</td>\n",
       "      <td>620312</td>\n",
       "      <td>593737</td>\n",
       "      <td>23-37 Star Crescent</td>\n",
       "    </tr>\n",
       "    <tr>\n",
       "      <th>3028</th>\n",
       "      <td>2016</td>\n",
       "      <td>1105</td>\n",
       "      <td>628712</td>\n",
       "      <td>628712</td>\n",
       "      <td>717-731 Collins Street</td>\n",
       "    </tr>\n",
       "    <tr>\n",
       "      <th>2832</th>\n",
       "      <td>2016</td>\n",
       "      <td>66</td>\n",
       "      <td>635138</td>\n",
       "      <td>635138</td>\n",
       "      <td>13 Heffernan Lane</td>\n",
       "    </tr>\n",
       "    <tr>\n",
       "      <th>3058</th>\n",
       "      <td>2016</td>\n",
       "      <td>270</td>\n",
       "      <td>664626</td>\n",
       "      <td>104468</td>\n",
       "      <td>230 Grattan Street</td>\n",
       "    </tr>\n",
       "  </tbody>\n",
       "</table>\n",
       "<p>308 rows × 5 columns</p>\n",
       "</div>"
      ],
      "text/plain": [
       "      Census year  Block ID  Property ID  Base property ID  \\\n",
       "3129         2017       103       100160            100160   \n",
       "1087         2011       409       100441            100441   \n",
       "410          2004       315       100514            100514   \n",
       "1501         2009        33       100727            100727   \n",
       "1159         2013        33       100730            100730   \n",
       "...           ...       ...          ...               ...   \n",
       "1601         2009      2391       616966            616966   \n",
       "1182         2013      1110       620312            593737   \n",
       "3028         2016      1105       628712            628712   \n",
       "2832         2016        66       635138            635138   \n",
       "3058         2016       270       664626            104468   \n",
       "\n",
       "                Street address  \n",
       "3129  196-200 A'Beckett Street  \n",
       "1087    118-126 Ireland Street  \n",
       "410       204-206 Arden Street  \n",
       "1501            5-9 Bank Place  \n",
       "1159          12-16 Bank Place  \n",
       "...                        ...  \n",
       "1601           2 Boundary Road  \n",
       "1182       23-37 Star Crescent  \n",
       "3028    717-731 Collins Street  \n",
       "2832         13 Heffernan Lane  \n",
       "3058        230 Grattan Street  \n",
       "\n",
       "[308 rows x 5 columns]"
      ]
     },
     "execution_count": 45,
     "metadata": {},
     "output_type": "execute_result"
    }
   ],
   "source": [
    "barspubs_df = barspubs_df.drop_duplicates(subset=['Property ID'], keep='first')\n",
    "barspubs_df.iloc[:, :5]"
   ]
  },
  {
   "cell_type": "markdown",
   "metadata": {
    "id": "FW5K7obK1_NR"
   },
   "source": [
    "Now that we are done with data cleaning, let's turn this dataframe in to a spatial layer. The location of the establishment is defined using the *x coordinate* and *y coordinate* columns."
   ]
  },
  {
   "cell_type": "code",
   "execution_count": 46,
   "metadata": {},
   "outputs": [
    {
     "data": {
      "text/html": [
       "<div>\n",
       "<style scoped>\n",
       "    .dataframe tbody tr th:only-of-type {\n",
       "        vertical-align: middle;\n",
       "    }\n",
       "\n",
       "    .dataframe tbody tr th {\n",
       "        vertical-align: top;\n",
       "    }\n",
       "\n",
       "    .dataframe thead th {\n",
       "        text-align: right;\n",
       "    }\n",
       "</style>\n",
       "<table border=\"1\" class=\"dataframe\">\n",
       "  <thead>\n",
       "    <tr style=\"text-align: right;\">\n",
       "      <th></th>\n",
       "      <th>Trading name</th>\n",
       "      <th>Number of patrons</th>\n",
       "      <th>x coordinate</th>\n",
       "      <th>y coordinate</th>\n",
       "      <th>Location</th>\n",
       "    </tr>\n",
       "  </thead>\n",
       "  <tbody>\n",
       "    <tr>\n",
       "      <th>3129</th>\n",
       "      <td>Nomads Industry Backpackers</td>\n",
       "      <td>200</td>\n",
       "      <td>144.957445</td>\n",
       "      <td>-37.809985</td>\n",
       "      <td>(-37.80998494, 144.9574447)</td>\n",
       "    </tr>\n",
       "    <tr>\n",
       "      <th>1087</th>\n",
       "      <td>Railway Hotel</td>\n",
       "      <td>241</td>\n",
       "      <td>144.942118</td>\n",
       "      <td>-37.806054</td>\n",
       "      <td>(-37.80605366, 144.9421177)</td>\n",
       "    </tr>\n",
       "    <tr>\n",
       "      <th>410</th>\n",
       "      <td>North Melbourne Football Club Social Club</td>\n",
       "      <td>210</td>\n",
       "      <td>144.941312</td>\n",
       "      <td>-37.799055</td>\n",
       "      <td>(-37.79905531, 144.9413118)</td>\n",
       "    </tr>\n",
       "    <tr>\n",
       "      <th>1501</th>\n",
       "      <td>Mitre Tavern</td>\n",
       "      <td>300</td>\n",
       "      <td>144.960311</td>\n",
       "      <td>-37.816805</td>\n",
       "      <td>(-37.81680457, 144.9603112)</td>\n",
       "    </tr>\n",
       "    <tr>\n",
       "      <th>1159</th>\n",
       "      <td>Melbourne Savage Club</td>\n",
       "      <td>90</td>\n",
       "      <td>144.960577</td>\n",
       "      <td>-37.816545</td>\n",
       "      <td>(-37.81654467, 144.9605765)</td>\n",
       "    </tr>\n",
       "    <tr>\n",
       "      <th>...</th>\n",
       "      <td>...</td>\n",
       "      <td>...</td>\n",
       "      <td>...</td>\n",
       "      <td>...</td>\n",
       "      <td>...</td>\n",
       "    </tr>\n",
       "    <tr>\n",
       "      <th>1601</th>\n",
       "      <td>Vodka Locka &amp; Red Leaf Restaurant</td>\n",
       "      <td>40</td>\n",
       "      <td>144.939233</td>\n",
       "      <td>-37.795318</td>\n",
       "      <td>(-37.79531826, 144.9392333)</td>\n",
       "    </tr>\n",
       "    <tr>\n",
       "      <th>1182</th>\n",
       "      <td>Harbour Town Hotel</td>\n",
       "      <td>498</td>\n",
       "      <td>144.937830</td>\n",
       "      <td>-37.813150</td>\n",
       "      <td>(-37.81315031, 144.9378299)</td>\n",
       "    </tr>\n",
       "    <tr>\n",
       "      <th>3028</th>\n",
       "      <td>Bar Nicional</td>\n",
       "      <td>75</td>\n",
       "      <td>144.950093</td>\n",
       "      <td>-37.820687</td>\n",
       "      <td>(-37.82068699, 144.9500934)</td>\n",
       "    </tr>\n",
       "    <tr>\n",
       "      <th>2832</th>\n",
       "      <td>Union Electric</td>\n",
       "      <td>72</td>\n",
       "      <td>144.966591</td>\n",
       "      <td>-37.811802</td>\n",
       "      <td>(-37.81180178, 144.9665913)</td>\n",
       "    </tr>\n",
       "    <tr>\n",
       "      <th>3058</th>\n",
       "      <td>HJC Bar</td>\n",
       "      <td>200</td>\n",
       "      <td>144.961247</td>\n",
       "      <td>-37.797398</td>\n",
       "      <td>(-37.79739836, 144.9612468)</td>\n",
       "    </tr>\n",
       "  </tbody>\n",
       "</table>\n",
       "<p>308 rows × 5 columns</p>\n",
       "</div>"
      ],
      "text/plain": [
       "                                   Trading name  Number of patrons  \\\n",
       "3129                Nomads Industry Backpackers                200   \n",
       "1087                              Railway Hotel                241   \n",
       "410   North Melbourne Football Club Social Club                210   \n",
       "1501                               Mitre Tavern                300   \n",
       "1159                      Melbourne Savage Club                 90   \n",
       "...                                         ...                ...   \n",
       "1601          Vodka Locka & Red Leaf Restaurant                 40   \n",
       "1182                         Harbour Town Hotel                498   \n",
       "3028                               Bar Nicional                 75   \n",
       "2832                             Union Electric                 72   \n",
       "3058                                    HJC Bar                200   \n",
       "\n",
       "      x coordinate  y coordinate                     Location  \n",
       "3129    144.957445    -37.809985  (-37.80998494, 144.9574447)  \n",
       "1087    144.942118    -37.806054  (-37.80605366, 144.9421177)  \n",
       "410     144.941312    -37.799055  (-37.79905531, 144.9413118)  \n",
       "1501    144.960311    -37.816805  (-37.81680457, 144.9603112)  \n",
       "1159    144.960577    -37.816545  (-37.81654467, 144.9605765)  \n",
       "...            ...           ...                          ...  \n",
       "1601    144.939233    -37.795318  (-37.79531826, 144.9392333)  \n",
       "1182    144.937830    -37.813150  (-37.81315031, 144.9378299)  \n",
       "3028    144.950093    -37.820687  (-37.82068699, 144.9500934)  \n",
       "2832    144.966591    -37.811802  (-37.81180178, 144.9665913)  \n",
       "3058    144.961247    -37.797398  (-37.79739836, 144.9612468)  \n",
       "\n",
       "[308 rows x 5 columns]"
      ]
     },
     "execution_count": 46,
     "metadata": {},
     "output_type": "execute_result"
    }
   ],
   "source": [
    "barspubs_df.iloc[:, -5:]"
   ]
  },
  {
   "cell_type": "markdown",
   "metadata": {},
   "source": [
    "Create a geometry column and use it to define a new GeoDataFrame."
   ]
  },
  {
   "cell_type": "code",
   "execution_count": 27,
   "metadata": {
    "id": "TfValzpT1_NR",
    "outputId": "702e8a30-79c2-4dd7-e8ea-b12ce3fef81d"
   },
   "outputs": [],
   "source": [
    "geometry = gpd.points_from_xy(barspubs_df['x coordinate'],barspubs_df['y coordinate'])\n",
    "barspubs_gdf = gpd.GeoDataFrame(barspubs_df, crs='EPSG:4326', geometry=geometry)"
   ]
  },
  {
   "cell_type": "markdown",
   "metadata": {
    "id": "UUJZCI2J1_NS"
   },
   "source": [
    "Next, we will read the zipped shapefile of metro stations as a GeoDataFrame."
   ]
  },
  {
   "cell_type": "code",
   "execution_count": 22,
   "metadata": {
    "id": "OD7WF-G31_NS",
    "outputId": "5a67741e-9941-499d-ae51-57409937c15c"
   },
   "outputs": [
    {
     "data": {
      "text/html": [
       "<div>\n",
       "<style scoped>\n",
       "    .dataframe tbody tr th:only-of-type {\n",
       "        vertical-align: middle;\n",
       "    }\n",
       "\n",
       "    .dataframe tbody tr th {\n",
       "        vertical-align: top;\n",
       "    }\n",
       "\n",
       "    .dataframe thead th {\n",
       "        text-align: right;\n",
       "    }\n",
       "</style>\n",
       "<table border=\"1\" class=\"dataframe\">\n",
       "  <thead>\n",
       "    <tr style=\"text-align: right;\">\n",
       "      <th></th>\n",
       "      <th>station</th>\n",
       "      <th>pids</th>\n",
       "      <th>he_loop</th>\n",
       "      <th>lift</th>\n",
       "      <th>geometry</th>\n",
       "    </tr>\n",
       "  </thead>\n",
       "  <tbody>\n",
       "    <tr>\n",
       "      <th>0</th>\n",
       "      <td>Alamein</td>\n",
       "      <td>No</td>\n",
       "      <td>No</td>\n",
       "      <td>No</td>\n",
       "      <td>POINT (145.07956 -37.86884)</td>\n",
       "    </tr>\n",
       "    <tr>\n",
       "      <th>1</th>\n",
       "      <td>Albion</td>\n",
       "      <td>Dot Matrix</td>\n",
       "      <td>No</td>\n",
       "      <td>No</td>\n",
       "      <td>POINT (144.82471 -37.77766)</td>\n",
       "    </tr>\n",
       "    <tr>\n",
       "      <th>2</th>\n",
       "      <td>Alphington</td>\n",
       "      <td>Dot Matrix</td>\n",
       "      <td>No</td>\n",
       "      <td>No</td>\n",
       "      <td>POINT (145.03125 -37.7784)</td>\n",
       "    </tr>\n",
       "    <tr>\n",
       "      <th>3</th>\n",
       "      <td>Altona</td>\n",
       "      <td>LCD</td>\n",
       "      <td>No</td>\n",
       "      <td>No</td>\n",
       "      <td>POINT (144.8306 -37.86725)</td>\n",
       "    </tr>\n",
       "    <tr>\n",
       "      <th>4</th>\n",
       "      <td>Anstey</td>\n",
       "      <td>No</td>\n",
       "      <td>No</td>\n",
       "      <td>No</td>\n",
       "      <td>POINT (144.96056 -37.7619)</td>\n",
       "    </tr>\n",
       "    <tr>\n",
       "      <th>...</th>\n",
       "      <td>...</td>\n",
       "      <td>...</td>\n",
       "      <td>...</td>\n",
       "      <td>...</td>\n",
       "      <td>...</td>\n",
       "    </tr>\n",
       "    <tr>\n",
       "      <th>214</th>\n",
       "      <td>Williams Landing</td>\n",
       "      <td>Dot Matrix</td>\n",
       "      <td>Yes</td>\n",
       "      <td>Yes</td>\n",
       "      <td>POINT (144.74719 -37.8701)</td>\n",
       "    </tr>\n",
       "    <tr>\n",
       "      <th>215</th>\n",
       "      <td>Aircraft</td>\n",
       "      <td>No</td>\n",
       "      <td>No</td>\n",
       "      <td>No</td>\n",
       "      <td>POINT (144.76081 -37.8666)</td>\n",
       "    </tr>\n",
       "    <tr>\n",
       "      <th>216</th>\n",
       "      <td>Flemington Racecourse</td>\n",
       "      <td>No</td>\n",
       "      <td>No</td>\n",
       "      <td>No</td>\n",
       "      <td>POINT (144.9072 -37.78759)</td>\n",
       "    </tr>\n",
       "    <tr>\n",
       "      <th>217</th>\n",
       "      <td>Showgrounds</td>\n",
       "      <td>No</td>\n",
       "      <td>No</td>\n",
       "      <td>No</td>\n",
       "      <td>POINT (144.91498 -37.78355)</td>\n",
       "    </tr>\n",
       "    <tr>\n",
       "      <th>218</th>\n",
       "      <td>Southland</td>\n",
       "      <td>LCD</td>\n",
       "      <td>Yes</td>\n",
       "      <td>Yes</td>\n",
       "      <td>POINT (145.04867 -37.95818)</td>\n",
       "    </tr>\n",
       "  </tbody>\n",
       "</table>\n",
       "<p>219 rows × 5 columns</p>\n",
       "</div>"
      ],
      "text/plain": [
       "                   station        pids he_loop lift  \\\n",
       "0                  Alamein          No      No   No   \n",
       "1                   Albion  Dot Matrix      No   No   \n",
       "2               Alphington  Dot Matrix      No   No   \n",
       "3                   Altona         LCD      No   No   \n",
       "4                   Anstey          No      No   No   \n",
       "..                     ...         ...     ...  ...   \n",
       "214       Williams Landing  Dot Matrix     Yes  Yes   \n",
       "215               Aircraft          No      No   No   \n",
       "216  Flemington Racecourse          No      No   No   \n",
       "217            Showgrounds          No      No   No   \n",
       "218              Southland         LCD     Yes  Yes   \n",
       "\n",
       "                        geometry  \n",
       "0    POINT (145.07956 -37.86884)  \n",
       "1    POINT (144.82471 -37.77766)  \n",
       "2     POINT (145.03125 -37.7784)  \n",
       "3     POINT (144.8306 -37.86725)  \n",
       "4     POINT (144.96056 -37.7619)  \n",
       "..                           ...  \n",
       "214   POINT (144.74719 -37.8701)  \n",
       "215   POINT (144.76081 -37.8666)  \n",
       "216   POINT (144.9072 -37.78759)  \n",
       "217  POINT (144.91498 -37.78355)  \n",
       "218  POINT (145.04867 -37.95818)  \n",
       "\n",
       "[219 rows x 5 columns]"
      ]
     },
     "execution_count": 22,
     "metadata": {},
     "output_type": "execute_result"
    }
   ],
   "source": [
    "zip_file = 'metro_stations_accessbility.zip'\n",
    "zip_path = os.path.join('zip://', data_folder, zip_file)\n",
    "metrostations_gdf = gpd.read_file(zip_path)\n",
    "metrostations_gdf"
   ]
  },
  {
   "cell_type": "markdown",
   "metadata": {
    "id": "2UBXdIJQ1_NS"
   },
   "source": [
    "Visualize the layers."
   ]
  },
  {
   "cell_type": "code",
   "execution_count": 26,
   "metadata": {
    "id": "toXX_L261_NS",
    "outputId": "c77ef7e0-67a2-47f5-e87c-10dcb4609360"
   },
   "outputs": [
    {
     "data": {
      "image/png": "[encoded data removed]",
      "text/plain": [
       "<Figure size 1500x700 with 1 Axes>"
      ]
     },
     "metadata": {},
     "output_type": "display_data"
    }
   ],
   "source": [
    "fig, ax = plt.subplots(1, 1)\n",
    "fig.set_size_inches(15,7)\n",
    "barspubs_gdf.plot(ax=ax, color='red', alpha=0.5, marker='+')\n",
    "metrostations_gdf.plot(ax=ax, color='blue', alpha=1, marker='o')\n",
    "\n",
    "minx, miny, maxx, maxy = barspubs_gdf.total_bounds\n",
    "ax.set_xlim(minx, maxx)\n",
    "ax.set_ylim(miny, maxy)\n",
    "\n",
    "legend_elements = [\n",
    "    plt.plot([],[], color='red', alpha=0.5, marker='+', label='Bars and Pubs', ls='')[0],\n",
    "    plt.plot([],[], color='blue', alpha=1, marker='o', label='Metro Stations', ls='')[0]]\n",
    "ax.legend(handles=legend_elements, loc='upper right')\n",
    "ax.get_xaxis().set_visible(False)\n",
    "ax.get_yaxis().set_visible(False)\n",
    "plt.show()"
   ]
  },
  {
   "cell_type": "markdown",
   "metadata": {
    "id": "t6Gkn4_f1_NS"
   },
   "source": [
    "For performing any analysis, we must use a Projected CRS. Let's reproject to a local CRS for Melbourne. *GDA 2020 / MGA zone 55 EPSG:7855*."
   ]
  },
  {
   "cell_type": "code",
   "execution_count": 28,
   "metadata": {
    "id": "q2X9LCgc1_NS"
   },
   "outputs": [],
   "source": [
    "metrostations_gdf_reprojected = metrostations_gdf.to_crs('EPSG:7855')\n",
    "barspubs_gdf_reprojected = barspubs_gdf.to_crs('EPSG:7855')"
   ]
  },
  {
   "cell_type": "markdown",
   "metadata": {
    "id": "CBly8M1p1_NS"
   },
   "source": [
    "We now buffer the metro stations to 500 meters. GeoPandas uses shapely for buffer operation. We specify [buffer parameters](https://shapely.readthedocs.io/en/latest/manual.html#constructive-methods) to match QGIS's default style."
   ]
  },
  {
   "cell_type": "code",
   "execution_count": 29,
   "metadata": {
    "id": "NsFyBAE11_NS"
   },
   "outputs": [],
   "source": [
    "radius = 500\n",
    "\n",
    "buffer_geometry = metrostations_gdf_reprojected.buffer(\n",
    "    radius, resolution=5, cap_style=1, join_style=1, mitre_limit=2)\n",
    "metrostations_gdf_reprojected['geometry'] = buffer_geometry"
   ]
  },
  {
   "cell_type": "markdown",
   "metadata": {
    "id": "aMauMEUQ1_NS"
   },
   "source": [
    "Visualize the buffers."
   ]
  },
  {
   "cell_type": "code",
   "execution_count": 30,
   "metadata": {
    "id": "0SF3v8-01_NS",
    "outputId": "f2c43fb8-c92e-441b-c719-73da05aee7c3"
   },
   "outputs": [
    {
     "data": {
      "image/png": "[encoded data removed]",
      "text/plain": [
       "<Figure size 1500x700 with 1 Axes>"
      ]
     },
     "metadata": {},
     "output_type": "display_data"
    }
   ],
   "source": [
    "fig, ax = plt.subplots(1, 1)\n",
    "fig.set_size_inches(15,7)\n",
    "barspubs_gdf_reprojected.plot(ax=ax, color='red', alpha=0.5, marker='+')\n",
    "metrostations_gdf_reprojected.plot(ax=ax, facecolor='none', edgecolor='blue',  alpha=1, marker='o')\n",
    "\n",
    "minx, miny, maxx, maxy = barspubs_gdf_reprojected.total_bounds\n",
    "ax.set_xlim(minx, maxx)\n",
    "ax.set_ylim(miny, maxy)\n",
    "\n",
    "legend_elements = [\n",
    "    plt.plot([],[], color='red', alpha=0.5, marker='+', label='Bars and Pubs', ls='')[0],\n",
    "    plt.plot([],[], color='blue', alpha=1, marker='o', label='Metro Station Buffers', ls='')[0]]\n",
    "ax.legend(handles=legend_elements, loc='upper right')\n",
    "ax.get_xaxis().set_visible(False)\n",
    "ax.get_yaxis().set_visible(False)\n",
    "plt.show()"
   ]
  },
  {
   "cell_type": "markdown",
   "metadata": {
    "id": "Sl9rU0mR1_NS"
   },
   "source": [
    "As we want to do a spatial join, we need to dissolve the resulting buffers. Otherwise we will get 1 feature for every intersecting buffer"
   ]
  },
  {
   "cell_type": "code",
   "execution_count": 31,
   "metadata": {
    "id": "6FzPQXPl1_NT"
   },
   "outputs": [],
   "source": [
    "metrostations_gdf_reprojected['dissolvefield'] = 1\n",
    "dissolved_buffers = metrostations_gdf_reprojected.dissolve(by='dissolvefield')"
   ]
  },
  {
   "cell_type": "code",
   "execution_count": 32,
   "metadata": {
    "id": "aOytUkBO1_NT",
    "outputId": "d4e32d8d-f73b-46a9-fc54-83e4e3265a4d"
   },
   "outputs": [
    {
     "data": {
      "image/png": "[encoded data removed]",
      "text/plain": [
       "<Figure size 1500x700 with 1 Axes>"
      ]
     },
     "metadata": {},
     "output_type": "display_data"
    }
   ],
   "source": [
    "fig, ax = plt.subplots(1, 1)\n",
    "fig.set_size_inches(15,7)\n",
    "barspubs_gdf_reprojected.plot(ax=ax, color='red', alpha=0.5, marker='+')\n",
    "dissolved_buffers.plot(ax=ax, facecolor='none', edgecolor='blue',  alpha=1)\n",
    "\n",
    "minx, miny, maxx, maxy = barspubs_gdf_reprojected.total_bounds\n",
    "ax.set_xlim(minx, maxx)\n",
    "ax.set_ylim(miny, maxy)\n",
    "\n",
    "legend_elements = [\n",
    "    plt.plot([],[], color='red', alpha=0.5, marker='+', label='Bars and Pubs', ls='')[0],\n",
    "    plt.plot([],[], color='blue', alpha=1, marker='o', label='Metro Station Buffers (Dissolved)', ls='')[0]]\n",
    "ax.legend(handles=legend_elements, loc='upper right')\n",
    "ax.get_xaxis().set_visible(False)\n",
    "ax.get_yaxis().set_visible(False)\n",
    "plt.show()"
   ]
  },
  {
   "cell_type": "markdown",
   "metadata": {
    "id": "c48hNWfo1_NT"
   },
   "source": [
    "Now do a spatial join to select all bars and pubs within the dissolved buffer region."
   ]
  },
  {
   "cell_type": "code",
   "execution_count": 37,
   "metadata": {
    "id": "p40FGRqr1_NT",
    "outputId": "ef52707b-659f-4275-f476-68dc3a18e67f"
   },
   "outputs": [],
   "source": [
    "selected = barspubs_gdf_reprojected.sjoin(\n",
    "    dissolved_buffers, how='inner', predicate='within')"
   ]
  },
  {
   "cell_type": "markdown",
   "metadata": {
    "id": "IA3kXo7P1_NT"
   },
   "source": [
    "For our final visualization, we show the selected establishments within the buffer zone."
   ]
  },
  {
   "cell_type": "code",
   "execution_count": 35,
   "metadata": {
    "id": "QcV2Qe2s1_NT",
    "outputId": "868b67fd-ce7a-45b9-ed9f-3ae226bd55da"
   },
   "outputs": [
    {
     "data": {
      "image/png": "[encoded data removed]",
      "text/plain": [
       "<Figure size 1500x700 with 1 Axes>"
      ]
     },
     "metadata": {},
     "output_type": "display_data"
    }
   ],
   "source": [
    "fig, ax = plt.subplots(1, 1)\n",
    "fig.set_size_inches(15,7)\n",
    "barspubs_gdf_reprojected.plot(ax=ax, color='red', alpha=0.5, marker='+')\n",
    "dissolved_buffers.plot(ax=ax, facecolor='none', edgecolor='blue',  alpha=1)\n",
    "selected.plot(ax=ax, color='yellow', alpha=0.5, marker='+')\n",
    "\n",
    "minx, miny, maxx, maxy = barspubs_gdf_reprojected.total_bounds\n",
    "ax.set_xlim(minx, maxx)\n",
    "ax.set_ylim(miny, maxy)\n",
    "\n",
    "legend_elements = [\n",
    "    plt.plot([],[], color='red', alpha=0.5, marker='+', label='Bars and Pubs', ls='')[0],\n",
    "    plt.plot([],[], color='blue', alpha=1, marker='o', label='Metro Station Buffers', ls='')[0],\n",
    "    plt.plot([],[], color='yellow', alpha=1, marker='+', label='Selected Bars and Pubs', ls='')[0]\n",
    "]\n",
    "\n",
    "ax.legend(handles=legend_elements, loc='upper right')\n",
    "ax.get_xaxis().set_visible(False)\n",
    "ax.get_yaxis().set_visible(False)\n",
    "\n",
    "plt.show()"
   ]
  },
  {
   "cell_type": "markdown",
   "metadata": {
    "id": "24EFSvb_1_NT"
   },
   "source": [
    "Finally, we save all our layers into a output geopackage."
   ]
  },
  {
   "cell_type": "code",
   "execution_count": 38,
   "metadata": {
    "id": "MC5MRTU91_NT"
   },
   "outputs": [],
   "source": [
    "output_file = 'spatial_query.gpkg'\n",
    "output_path = os.path.join(output_folder, output_file)\n",
    "\n",
    "barspubs_gdf_reprojected.to_file(filename=output_path, layer='bars_and_pubs')\n",
    "metrostations_gdf_reprojected.to_file(filename=output_path, layer='metro_stations')\n",
    "selected.to_file(filename=output_path, layer='selected_locations')"
   ]
  },
  {
   "cell_type": "markdown",
   "metadata": {},
   "source": [
    "----\n",
    "\n",
    "If you want to give feedback or share your experience with this tutorial, please comment below. (requires GitHub account)\n",
    "\n",
    "\n",
    "<script src='https://utteranc.es/client.js'\n",
    "    repo='spatialthoughts/geopython-tutorials'\n",
    "    issue-term='pathname'\n",
    "    theme='github-light'\n",
    "    crossorigin='anonymous'\n",
    "    async>\n",
    "</script>"
   ]
  }
 ],
 "metadata": {
  "colab": {
   "provenance": []
  },
  "kernelspec": {
   "display_name": "Python 3 (ipykernel)",
   "language": "python",
   "name": "python3"
  },
  "language_info": {
   "codemirror_mode": {
    "name": "ipython",
    "version": 3
   },
   "file_extension": ".py",
   "mimetype": "text/x-python",
   "name": "python",
   "nbconvert_exporter": "python",
   "pygments_lexer": "ipython3",
   "version": "3.13.1"
  }
 },
 "nbformat": 4,
 "nbformat_minor": 4
}

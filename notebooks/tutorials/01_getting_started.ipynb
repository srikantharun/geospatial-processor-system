{
 "cells": [
  {
   "cell_type": "markdown",
   "metadata": {},
   "source": [
    "# Getting Started with GeoProcessor\n",
    "\n",
    "This notebook provides an introduction to the GeoProcessor library for geospatial data processing. We'll cover basic setup, module structure, and simple operations with raster and vector data."
   ]
  },
  {
   "cell_type": "markdown",
   "metadata": {},
   "source": [
    "## Setup\n",
    "\n",
    "First, let's import the necessary modules and check if everything is installed correctly."
   ]
  },
  {
   "cell_type": "code",
   "execution_count": null,
   "metadata": {},
   "outputs": [],
   "source": [
    "# Import main library\n",
    "import geoprocessor\n",
    "\n",
    "# Import specific modules\n",
    "from geoprocessor.core import utils\n",
    "from geoprocessor.raster import io as raster_io\n",
    "from geoprocessor.vector import io as vector_io\n",
    "\n",
    "# Check version\n",
    "print(f\"GeoProcessor version: {geoprocessor.__version__}\")"
   ]
  },
  {
   "cell_type": "markdown",
   "metadata": {},
   "source": [
    "## Library Structure\n",
    "\n",
    "GeoProcessor is organized into several key modules:\n",
    "\n",
    "- `core`: Core functionality including data models and common utilities\n",
    "- `raster`: Processing and analysis of raster data\n",
    "- `vector`: Processing and analysis of vector data\n",
    "- `aws`: Integration with AWS services\n",
    "- `postgis`: Integration with PostGIS databases\n",
    "- `visualization`: Tools for plotting and map generation"
   ]
  },
  {
   "cell_type": "markdown",
   "metadata": {},
   "source": [
    "## Downloading Sample Data\n",
    "\n",
    "Let's download some sample geospatial data to work with."
   ]
  },
  {
   "cell_type": "code",
   "execution_count": null,
   "metadata": {},
   "outputs": [],
   "source": [
    "import os\n",
    "import shutil\n",
    "import requests\n",
    "\n",
    "# Create data directory if it doesn't exist\n",
    "data_dir = \"../data\"\n",
    "raster_dir = os.path.join(data_dir, \"raster\")\n",
    "vector_dir = os.path.join(data_dir, \"vector\")\n",
    "\n",
    "for directory in [data_dir, raster_dir, vector_dir]:\n",
    "    os.makedirs(directory, exist_ok=True)\n",
    "\n",
    "# Download a sample raster file (Landsat 8 sample from AWS)\n",
    "raster_url = \"https://landsat-pds.s3.amazonaws.com/c1/L8/153/075/LC08_L1TP_153075_20190515_20190515_01_RT/LC08_L1TP_153075_20190515_20190515_01_RT_B4.TIF\"\n",
    "raster_path = os.path.join(raster_dir, \"sample_landsat_red.tif\")\n",
    "\n",
    "# Download only if file doesn't exist\n",
    "if not os.path.exists(raster_path):\n",
    "    print(f\"Downloading sample raster to {raster_path}...\")\n",
    "    response = requests.get(raster_url, stream=True)\n",
    "    with open(raster_path, 'wb') as out_file:\n",
    "        shutil.copyfileobj(response.raw, out_file)\n",
    "    print(\"Download complete.\")\n",
    "else:\n",
    "    print(f\"Sample raster already exists at {raster_path}\")\n",
    "\n",
    "# Download a sample vector file (Natural Earth data)\n",
    "vector_url = \"https://www.naturalearthdata.com/http//www.naturalearthdata.com/download/110m/cultural/ne_110m_admin_0_countries.zip\"\n",
    "vector_zip = os.path.join(vector_dir, \"countries.zip\")\n",
    "vector_path = os.path.join(vector_dir, \"ne_110m_admin_0_countries.shp\")\n",
    "\n",
    "# Download and extract only if file doesn't exist\n",
    "if not os.path.exists(vector_path):\n",
    "    print(f\"Downloading sample vector to {vector_zip}...\")\n",
    "    response = requests.get(vector_url, stream=True)\n",
    "    with open(vector_zip, 'wb') as out_file:\n",
    "        shutil.copyfileobj(response.raw, out_file)\n",
    "    print(\"Download complete.\")\n",
    "    \n",
    "    # Extract ZIP file\n",
    "    import zipfile\n",
    "    with zipfile.ZipFile(vector_zip, 'r') as zip_ref:\n",
    "        zip_ref.extractall(vector_dir)\n",
    "    print(f\"Extracted to {vector_dir}\")\n",
    "else:\n",
    "    print(f\"Sample vector already exists at {vector_path}\")"
   ]
  },
  {
   "cell_type": "markdown",
   "metadata": {},
   "source": [
    "## Basic Raster Operations\n",
    "\n",
    "Let's perform some basic operations on our sample raster."
   ]
  },
  {
   "cell_type": "code",
   "execution_count": null,
   "metadata": {},
   "outputs": [],
   "source": [
    "# Load the raster file\n",
    "raster = raster_io.read_raster(raster_path)\n",
    "\n",
    "# Get basic information\n",
    "print(\"Raster shape:\", raster.data.shape)\n",
    "print(\"CRS:\", raster.crs)\n",
    "print(\"Transform:\", raster.transform)\n",
    "print(\"NoData value:\", raster.nodata)"
   ]
  },
  {
   "cell_type": "markdown",
   "metadata": {},
   "source": [
    "Let's visualize the raster using the visualization module."
   ]
  },
  {
   "cell_type": "code",
   "execution_count": null,
   "metadata": {},
   "outputs": [],
   "source": [
    "from geoprocessor.visualization import maps\n",
    "\n",
    "# Create a static map of the raster\n",
    "fig = maps.create_static_map(\n",
    "    raster=raster,\n",
    "    title=\"Landsat 8 Red Band\",\n",
    "    cmap=\"RdGy\"\n",
    ")"
   ]
  },
  {
   "cell_type": "markdown",
   "metadata": {},
   "source": [
    "Now, let's create a histogram of the raster values."
   ]
  },
  {
   "cell_type": "code",
   "execution_count": null,
   "metadata": {},
   "outputs": [],
   "source": [
    "from geoprocessor.visualization import plots\n",
    "\n",
    "# Plot a histogram of raster values\n",
    "fig = plots.plot_histogram(\n",
    "    raster=raster,\n",
    "    title=\"Landsat 8 Red Band - Histogram\",\n",
    "    xlabel=\"Pixel Value\",\n",
    "    bins=100\n",
    ")"
   ]
  },
  {
   "cell_type": "markdown",
   "metadata": {},
   "source": [
    "## Basic Vector Operations\n",
    "\n",
    "Now let's perform some operations on our sample vector data."
   ]
  },
  {
   "cell_type": "code",
   "execution_count": null,
   "metadata": {},
   "outputs": [],
   "source": [
    "# Read the vector file\n",
    "vector = vector_io.read_vector(vector_path)\n",
    "\n",
    "# Look at the first few rows\n",
    "print(\"Vector data shape:\", vector.shape)\n",
    "print(\"\\nFirst few records:\")\n",
    "vector.head()"
   ]
  },
  {
   "cell_type": "markdown",
   "metadata": {},
   "source": [
    "Let's visualize the vector data."
   ]
  },
  {
   "cell_type": "code",
   "execution_count": null,
   "metadata": {},
   "outputs": [],
   "source": [
    "# Create a static map of the vector data\n",
    "fig = maps.create_static_map(\n",
    "    vector=vector,\n",
    "    title=\"World Countries\",\n",
    "    vector_color=\"darkblue\",\n",
    "    vector_facecolor=\"lightblue\"\n",
    ")"
   ]
  },
  {
   "cell_type": "markdown",
   "metadata": {},
   "source": [
    "## Creating a Choropleth Map\n",
    "\n",
    "Let's create a choropleth map using a population field."
   ]
  },
  {
   "cell_type": "code",
   "execution_count": null,
   "metadata": {},
   "outputs": [],
   "source": [
    "# Create a choropleth map using population data\n",
    "fig = maps.create_choropleth_map(\n",
    "    geodata=vector,\n",
    "    value_field=\"POP_EST\",  # Population estimate field\n",
    "    title=\"World Population Estimates\",\n",
    "    cmap=\"viridis\",\n",
    "    legend_title=\"Population\"\n",
    ")"
   ]
  },
  {
   "cell_type": "markdown",
   "metadata": {},
   "source": [
    "## Creating an Interactive Map\n",
    "\n",
    "Let's create an interactive map using Folium."
   ]
  },
  {
   "cell_type": "code",
   "execution_count": null,
   "metadata": {},
   "outputs": [],
   "source": [
    "# Create an interactive map\n",
    "interactive_map = maps.create_interactive_map(\n",
    "    vector=vector,\n",
    "    popup_fields=[\"NAME\", \"POP_EST\", \"CONTINENT\"],\n",
    "    zoom_start=2\n",
    ")\n",
    "\n",
    "# Display the map\n",
    "interactive_map"
   ]
  },
  {
   "cell_type": "markdown",
   "metadata": {},
   "source": [
    "## Conclusion\n",
    "\n",
    "In this notebook, we've covered the basics of the GeoProcessor library, including:\n",
    "\n",
    "- Setting up the environment\n",
    "- Understanding the library structure\n",
    "- Loading and visualizing raster data\n",
    "- Loading and visualizing vector data\n",
    "- Creating various types of maps\n",
    "\n",
    "In the next tutorial, we'll dive deeper into raster processing operations."
   ]
  }
 ],
 "metadata": {
  "kernelspec": {
   "display_name": "Python 3",
   "language": "python",
   "name": "python3"
  },
  "language_info": {
   "codemirror_mode": {
    "name": "ipython",
    "version": 3
   },
   "file_extension": ".py",
   "mimetype": "text/x-python",
   "name": "python",
   "nbconvert_exporter": "python",
   "pygments_lexer": "ipython3",
   "version": "3.8.10"
  }
 },
 "nbformat": 4,
 "nbformat_minor": 4
}